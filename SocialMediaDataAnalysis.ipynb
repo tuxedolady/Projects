{
 "cells": [
  {
   "cell_type": "markdown",
   "metadata": {},
   "source": [
    "# Clean & Analyze Social Media"
   ]
  },
  {
   "cell_type": "markdown",
   "metadata": {},
   "source": [
    "## Introduction\n",
    "\n",
    "Social media has become a ubiquitous part of modern life, with platforms such as Instagram, Twitter, and Facebook serving as essential communication channels. Social media data sets are vast and complex, making analysis a challenging task for businesses and researchers alike. In this project, we explore a simulated social media, for example Tweets, data set to understand trends in likes across different categories.\n",
    "\n",
    "## Prerequisites\n",
    "\n",
    "To follow along with this project, you should have a basic understanding of Python programming and data analysis concepts. In addition, you may want to use the following packages in your Python environment:\n",
    "\n",
    "- pandas\n",
    "- Matplotlib\n",
    "- ...\n",
    "\n",
    "These packages should already be installed in Coursera's Jupyter Notebook environment, however if you'd like to install additional packages that are not included in this environment or are working off platform you can install additional packages using `!pip install packagename` within a notebook cell such as:\n",
    "\n",
    "- `!pip install pandas`\n",
    "- `!pip install matplotlib`\n",
    "\n",
    "## Project Scope\n",
    "\n",
    "The objective of this project is to analyze tweets (or other social media data) and gain insights into user engagement. We will explore the data set using visualization techniques to understand the distribution of likes across different categories. Finally, we will analyze the data to draw conclusions about the most popular categories and the overall engagement on the platform.\n",
    "\n",
    "## Step 1: Importing Required Libraries\n",
    "\n",
    "As the name suggests, the first step is to import all the necessary libraries that will be used in the project. In this case, we need pandas, numpy, matplotlib, seaborn, and random libraries.\n",
    "\n",
    "Pandas is a library used for data manipulation and analysis. Numpy is a library used for numerical computations. Matplotlib is a library used for data visualization. Seaborn is a library used for statistical data visualization. Random is a library used to generate random numbers."
   ]
  },
  {
   "cell_type": "code",
   "execution_count": 2,
   "metadata": {},
   "outputs": [],
   "source": [
    "# your code here"
   ]
  },
  {
   "cell_type": "code",
   "execution_count": 1,
   "metadata": {},
   "outputs": [
    {
     "name": "stdout",
     "output_type": "stream",
     "text": [
      "Requirement already satisfied: tweepy in /opt/conda/lib/python3.7/site-packages (4.14.0)\n",
      "Requirement already satisfied: oauthlib<4,>=3.2.0 in /opt/conda/lib/python3.7/site-packages (from tweepy) (3.2.2)\n",
      "Requirement already satisfied: requests<3,>=2.27.0 in /opt/conda/lib/python3.7/site-packages (from tweepy) (2.31.0)\n",
      "Requirement already satisfied: requests-oauthlib<2,>=1.2.0 in /opt/conda/lib/python3.7/site-packages (from tweepy) (1.3.1)\n",
      "Requirement already satisfied: charset-normalizer<4,>=2 in /opt/conda/lib/python3.7/site-packages (from requests<3,>=2.27.0->tweepy) (3.3.2)\n",
      "Requirement already satisfied: idna<4,>=2.5 in /opt/conda/lib/python3.7/site-packages (from requests<3,>=2.27.0->tweepy) (2.9)\n",
      "Requirement already satisfied: urllib3<3,>=1.21.1 in /opt/conda/lib/python3.7/site-packages (from requests<3,>=2.27.0->tweepy) (1.25.9)\n",
      "Requirement already satisfied: certifi>=2017.4.17 in /opt/conda/lib/python3.7/site-packages (from requests<3,>=2.27.0->tweepy) (2020.4.5.1)\n",
      "Requirement already satisfied: pip in /opt/conda/lib/python3.7/site-packages (24.0)\n"
     ]
    }
   ],
   "source": [
    "!pip install tweepy\n",
    "!pip install --upgrade pip\n",
    "import random\n",
    "import pandas as pd\n",
    "import numpy as np\n",
    "import seaborn as sns\n",
    "import matplotlib.pyplot as plt"
   ]
  },
  {
   "cell_type": "code",
   "execution_count": 2,
   "metadata": {},
   "outputs": [
    {
     "name": "stdout",
     "output_type": "stream",
     "text": [
      "DataFrame Head is:\n",
      "                           Date Category  Like\n",
      "0 1970-01-01 00:00:00.000002019     food   400\n",
      "1 1970-01-02 00:00:00.000002019  Culture   593\n",
      "2 1970-01-03 00:00:00.000002019  Fashion   636\n",
      "3 1970-01-04 00:00:00.000002019   Travel   325\n",
      "4 1970-01-05 00:00:00.000002019  Fitness   795\n",
      "\n",
      "DataFrame information :\n",
      "<class 'pandas.core.frame.DataFrame'>\n",
      "RangeIndex: 500 entries, 0 to 499\n",
      "Data columns (total 3 columns):\n",
      " #   Column    Non-Null Count  Dtype         \n",
      "---  ------    --------------  -----         \n",
      " 0   Date      500 non-null    datetime64[ns]\n",
      " 1   Category  500 non-null    object        \n",
      " 2   Like      500 non-null    int64         \n",
      "dtypes: datetime64[ns](1), int64(1), object(1)\n",
      "memory usage: 11.8+ KB\n",
      "None\n",
      "\n",
      "DataFrame description:\n",
      "           Like\n",
      "count  500.0000\n",
      "mean   514.1840\n",
      "std    295.7142\n",
      "min      4.0000\n",
      "25%    244.5000\n",
      "50%    514.5000\n",
      "75%    773.5000\n",
      "max    999.0000\n",
      "\n",
      "count of each 'Category'elements:\n",
      "Culture    71\n",
      "Family     67\n",
      "Fashion    67\n",
      "Health     67\n",
      "Fitness    62\n",
      "Music      61\n",
      "Travel     55\n",
      "food       50\n",
      "Name: Category, dtype: int64\n"
     ]
    }
   ],
   "source": [
    "categories=['food','Travel','Fashion', 'Fitness', 'Music', 'Culture', 'Family', 'Health']\n",
    "\n",
    "n=500\n",
    "Data= { 'Date': pd.date_range(2021-1-1, periods=n),\n",
    "        'Category': [random.choice(categories) for _ in range(n)],\n",
    "        'Like': np.random.randint( 0, 1000, size=n)\n",
    "      }\n",
    "df= pd.DataFrame(Data)\n",
    "\n",
    "print(\"DataFrame Head is:\")\n",
    "print(df.head())\n",
    "\n",
    "print(\"\\nDataFrame information :\")\n",
    "print(df.info())\n",
    "\n",
    "print(\"\\nDataFrame description:\")\n",
    "print(df.describe())\n",
    "\n",
    "print(\"\\ncount of each 'Category'elements:\")\n",
    "print(df['Category'].value_counts())"
   ]
  },
  {
   "cell_type": "raw",
   "metadata": {},
   "source": []
  },
  {
   "cell_type": "code",
   "execution_count": 3,
   "metadata": {},
   "outputs": [
    {
     "name": "stdout",
     "output_type": "stream",
     "text": [
      "                           Date Category  Like\n",
      "0 1970-01-01 00:00:00.000002019     food   400\n",
      "1 1970-01-02 00:00:00.000002019  Culture   593\n",
      "2 1970-01-03 00:00:00.000002019  Fashion   636\n",
      "3 1970-01-04 00:00:00.000002019   Travel   325\n",
      "4 1970-01-05 00:00:00.000002019  Fitness   795\n"
     ]
    }
   ],
   "source": [
    "df_cleaned=df.dropna()\n",
    "df_cleaned = df_cleaned.drop_duplicates()\n",
    "df_cleaned[\"Date\"]=pd.to_datetime(df_cleaned[\"Date\"])\n",
    "df_cleaned[\"Like\"]= df_cleaned[\"Like\"].astype(int)\n",
    "print(df_cleaned.head())\n"
   ]
  },
  {
   "cell_type": "code",
   "execution_count": 14,
   "metadata": {},
   "outputs": [
    {
     "data": {
      "image/png": "[encoded data removed]",
      "text/plain": [
       "<Figure size 432x288 with 1 Axes>"
      ]
     },
     "metadata": {
      "needs_background": "light"
     },
     "output_type": "display_data"
    },
    {
     "data": {
      "image/png": "[encoded data removed]",
      "text/plain": [
       "<Figure size 432x288 with 1 Axes>"
      ]
     },
     "metadata": {
      "needs_background": "light"
     },
     "output_type": "display_data"
    },
    {
     "name": "stdout",
     "output_type": "stream",
     "text": [
      "mean of likes: 514.184\n",
      "\n",
      "mean likes per Category:\n",
      "Category\n",
      "Culture    505.478873\n",
      "Family     540.134328\n",
      "Fashion    491.343284\n",
      "Fitness    557.903226\n",
      "Health     498.567164\n",
      "Music      566.590164\n",
      "Travel     481.218182\n",
      "food       461.420000\n",
      "Name: Like, dtype: float64\n",
      "The category with the highest average likes is 'Music' with an average of 566.59 likes.\n"
     ]
    }
   ],
   "source": [
    "#visualize\n",
    "\n",
    "sns.histplot(df_cleaned[\"Like\"])\n",
    "plt.show()\n",
    "\n",
    "sns.boxplot(x=\"Category\",y=\"Like\", data=df_cleaned)\n",
    "plt.show()\n",
    "\n",
    "print(\"mean of likes:\" ,df_cleaned['Like'].mean())\n",
    "mean_likes_per_category = df_cleaned.groupby('Category')['Like'].mean()\n",
    "print (\"\\nmean likes per Category:\")\n",
    "print(mean_likes_per_category)\n",
    "\n",
    "highest_likes_category = mean_likes_per_category.idxmax()\n",
    "highest_likes = mean_likes_per_category.max()\n",
    "\n",
    "print(f\"The category with the highest average likes is '{highest_likes_category}' with an average of {highest_likes:.2f} likes.\")"
   ]
  },
  {
   "cell_type": "code",
   "execution_count": null,
   "metadata": {},
   "outputs": [],
   "source": []
  }
 ],
 "metadata": {
  "kernelspec": {
   "display_name": "Python 3",
   "language": "python",
   "name": "python3"
  },
  "language_info": {
   "codemirror_mode": {
    "name": "ipython",
    "version": 3
   },
   "file_extension": ".py",
   "mimetype": "text/x-python",
   "name": "python",
   "nbconvert_exporter": "python",
   "pygments_lexer": "ipython3",
   "version": "3.7.6"
  }
 },
 "nbformat": 4,
 "nbformat_minor": 4
}
